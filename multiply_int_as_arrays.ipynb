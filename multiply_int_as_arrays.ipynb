{
 "metadata": {
  "language_info": {
   "codemirror_mode": {
    "name": "ipython",
    "version": 3
   },
   "file_extension": ".py",
   "mimetype": "text/x-python",
   "name": "python",
   "nbconvert_exporter": "python",
   "pygments_lexer": "ipython3",
   "version": "3.8.3"
  },
  "orig_nbformat": 2,
  "kernelspec": {
   "name": "python383jvsc74a57bd01baa965d5efe3ac65b79dfc60c0d706280b1da80fedb7760faf2759126c4f253",
   "display_name": "Python 3.8.3 64-bit"
  },
  "metadata": {
   "interpreter": {
    "hash": "1baa965d5efe3ac65b79dfc60c0d706280b1da80fedb7760faf2759126c4f253"
   }
  }
 },
 "nbformat": 4,
 "nbformat_minor": 2,
 "cells": [
  {
   "source": [
    "## 5.3 Multiply Two Arbitrary-Precision Integers"
   ],
   "cell_type": "markdown",
   "metadata": {}
  },
  {
   "cell_type": "code",
   "execution_count": 38,
   "metadata": {},
   "outputs": [],
   "source": [
    "from typing import List"
   ]
  },
  {
   "cell_type": "code",
   "execution_count": 39,
   "metadata": {},
   "outputs": [],
   "source": [
    "def multiply(num1: List[int], num2: List[int]) -> List[int]:\n",
    "\n",
    "    # Determine the sign of the result using XOR\n",
    "    sign = -1 if ((num1[0] < 0) ^ (num2[0] < 0)) else 1\n",
    "\n",
    "    # Make first elements of the num1 and num2 absolute\n",
    "    num1[0], num2[0] = abs(num1[0]), abs(num2[0]) \n",
    "\n",
    "    # Initialize result variable and set its size to n + m + 1\n",
    "    result = [0] * (len(num1) + len(num2))\n",
    "\n",
    "    # Perform gradle school multiplication, i.e; mutliply first number with each \n",
    "    # digit of second number and incrementally add the result\n",
    "    for i in reversed(range(len(num1))):\n",
    "        for j in reversed(range(len(num2))):\n",
    "            result[i + j + 1] += num1[i] * num2[j]\n",
    "            result[i + j] += result[i + j + 1] // 10\n",
    "            result[i + j + 1] %= 10\n",
    "    \n",
    "    # Remove any leading zeros\n",
    "    result = result[next((i for i,x in enumerate(result) if x != 0), len(result)):] or [0]\n",
    "    return [sign * result[0]] + result[1:]\n",
    "\n",
    "\n",
    "\n"
   ]
  },
  {
   "cell_type": "code",
   "execution_count": 40,
   "metadata": {},
   "outputs": [
    {
     "output_type": "stream",
     "name": "stdout",
     "text": [
      "[-2, 7, 8, 3]\n"
     ]
    }
   ],
   "source": [
    "print(multiply([2,3], [-1,2,1]))"
   ]
  },
  {
   "cell_type": "code",
   "execution_count": 41,
   "metadata": {},
   "outputs": [
    {
     "output_type": "stream",
     "name": "stdout",
     "text": [
      "[1, 6, 4, 3, 2]\n"
     ]
    }
   ],
   "source": [
    "print(multiply([-3,1,6],[-5,2]))"
   ]
  },
  {
   "cell_type": "code",
   "execution_count": 42,
   "metadata": {},
   "outputs": [
    {
     "output_type": "stream",
     "name": "stdout",
     "text": [
      "[0]\n"
     ]
    }
   ],
   "source": [
    "print(multiply([0], [-1,2]))"
   ]
  }
 ]
}