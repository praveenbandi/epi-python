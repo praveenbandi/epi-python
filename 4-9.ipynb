{
 "metadata": {
  "language_info": {
   "codemirror_mode": {
    "name": "ipython",
    "version": 3
   },
   "file_extension": ".py",
   "mimetype": "text/x-python",
   "name": "python",
   "nbconvert_exporter": "python",
   "pygments_lexer": "ipython3",
   "version": "3.8.3"
  },
  "orig_nbformat": 2,
  "kernelspec": {
   "name": "python383jvsc74a57bd01baa965d5efe3ac65b79dfc60c0d706280b1da80fedb7760faf2759126c4f253",
   "display_name": "Python 3.8.3 64-bit"
  },
  "metadata": {
   "interpreter": {
    "hash": "1baa965d5efe3ac65b79dfc60c0d706280b1da80fedb7760faf2759126c4f253"
   }
  }
 },
 "nbformat": 4,
 "nbformat_minor": 2,
 "cells": [
  {
   "source": [
    "## Check if integer is a palindrome"
   ],
   "cell_type": "markdown",
   "metadata": {}
  },
  {
   "cell_type": "code",
   "execution_count": 1,
   "metadata": {},
   "outputs": [],
   "source": [
    "import math"
   ]
  },
  {
   "cell_type": "code",
   "execution_count": 9,
   "metadata": {},
   "outputs": [],
   "source": [
    "def is_palindrome(num: int) -> bool:\n",
    "\n",
    "    # Find number of digits(n) using formula n = log10(num) + 1, (explanation: https://www.youtube.com/watch?v=kWndpHMpUlY&t=98s)\n",
    "    n = math.floor(math.log10(num)) + 1\n",
    "\n",
    "    # Mask variable to find most significant bit, formula msd = num / 10 ** (n - 1)\n",
    "    msd_mask = 10 ** (n - 1)\n",
    "\n",
    "    # Iterate over half of n, compare msd and lsd (least significant digit), return bool\n",
    "    for x in range(n // 2):\n",
    "\n",
    "        # Return false if msd != lsd\n",
    "        if (num // msd_mask != num % 10):\n",
    "            return False\n",
    "        \n",
    "        # Remove msd and lsd from num\n",
    "        num %= msd_mask\n",
    "        num //= 10\n",
    "\n",
    "        # Adjust msd_mask, divide by 10 **2 as 2 digits are removed\n",
    "        msd_mask //= 100\n",
    "\n",
    "    return True "
   ]
  },
  {
   "cell_type": "code",
   "execution_count": 10,
   "metadata": {},
   "outputs": [
    {
     "output_type": "execute_result",
     "data": {
      "text/plain": [
       "True"
      ]
     },
     "metadata": {},
     "execution_count": 10
    }
   ],
   "source": [
    "is_palindrome(12321)"
   ]
  },
  {
   "cell_type": "code",
   "execution_count": 11,
   "metadata": {},
   "outputs": [
    {
     "output_type": "execute_result",
     "data": {
      "text/plain": [
       "True"
      ]
     },
     "metadata": {},
     "execution_count": 11
    }
   ],
   "source": [
    "is_palindrome(1221)"
   ]
  },
  {
   "cell_type": "code",
   "execution_count": 12,
   "metadata": {},
   "outputs": [
    {
     "output_type": "execute_result",
     "data": {
      "text/plain": [
       "False"
      ]
     },
     "metadata": {},
     "execution_count": 12
    }
   ],
   "source": [
    "is_palindrome(2727)"
   ]
  }
 ]
}